{
 "cells": [
  {
   "cell_type": "markdown",
   "id": "4f6811ba",
   "metadata": {},
   "source": [
    "### Question 1"
   ]
  },
  {
   "cell_type": "code",
   "execution_count": 3,
   "id": "e30b4624",
   "metadata": {},
   "outputs": [
    {
     "name": "stdout",
     "output_type": "stream",
     "text": [
      "6\n"
     ]
    }
   ],
   "source": [
    "a = 0\n",
    "\n",
    "def b():\n",
    "    global a\n",
    "    a = c(a)\n",
    "\n",
    "def c(a):\n",
    "    return a + 2\n",
    "\n",
    "b()\n",
    "b()\n",
    "b()\n",
    "print(a)\n"
   ]
  },
  {
   "cell_type": "markdown",
   "id": "a3ca644e",
   "metadata": {},
   "source": [
    "Explanation:\n",
    "b(): This statement calls the function b(). Inside b(), the global keyword is used to indicate that the variable a being referenced is the global variable, not a local variable. The function c(a) is then called with the current value of a (which is 0). In c(a), the value of a is incremented by 2 and returned.\n",
    "\n",
    "b(): The second b() call executes the same steps as the first one. The global variable a is updated to the new value returned by c(a), which is 2. So, after this statement, the value of a is 2.\n",
    "\n",
    "b(): Similar to the previous calls, the third b() call updates the global variable a to the value returned by c(a), which is 4. After this statement, the value of a becomes 4.\n",
    "\n",
    "a: When the last expression a is evaluated, it returns the current value of the global variable a, which is 4. Therefore, the value 4 would be displayed.\n",
    "\n",
    "The initial value of a is 0. Each call to b() increments the value of a by 2, resulting in 2, 4, and finally 6 as the consecutive values of a."
   ]
  },
  {
   "cell_type": "markdown",
   "id": "021f78bc",
   "metadata": {},
   "source": [
    "### Question 2"
   ]
  },
  {
   "cell_type": "code",
   "execution_count": 35,
   "id": "71d1ec05",
   "metadata": {},
   "outputs": [
    {
     "name": "stdout",
     "output_type": "stream",
     "text": [
      "File midterm.py not found.\n"
     ]
    }
   ],
   "source": [
    "def fileLength(filename):\n",
    "    try:\n",
    "        with open(filename, 'r') as file:\n",
    "            content = file.read()\n",
    "            length = len(content)\n",
    "            return length\n",
    "    except FileNotFoundError:\n",
    "        print(f\"File {filename} not found.\")\n",
    "    except Exception as e:\n",
    "        print(f\"Error: {e}\")\n",
    "\n",
    "fileLength('midterm.py')\n"
   ]
  },
  {
   "cell_type": "markdown",
   "id": "41bc0d19",
   "metadata": {},
   "source": [
    "### Question 3"
   ]
  },
  {
   "cell_type": "code",
   "execution_count": 8,
   "id": "fc106bd0",
   "metadata": {},
   "outputs": [
    {
     "name": "stdout",
     "output_type": "stream",
     "text": [
      "['doll', 'firetruck', 'kitten']\n",
      "['doll', 'firetruck', 'kitten']\n",
      "I am a Kangaroo located at coordinates (2, 3)\n"
     ]
    }
   ],
   "source": [
    "class Marsupial:\n",
    "    def __init__(self):\n",
    "        self.pouch = []\n",
    "\n",
    "    def put_in_pouch(self, item):\n",
    "        self.pouch.append(item)\n",
    "\n",
    "    def pouch_contents(self):\n",
    "        return self.pouch\n",
    "\n",
    "\n",
    "class Kangaroo(Marsupial):\n",
    "    def __init__(self, x, y):\n",
    "        super().__init__()\n",
    "        self.x = x\n",
    "        self.y = y\n",
    "\n",
    "    def jump(self, dx, dy):\n",
    "        self.x += dx\n",
    "        self.y += dy\n",
    "\n",
    "    def __str__(self):\n",
    "        return \"I am a Kangaroo located at coordinates ({}, {})\".format(self.x, self.y)\n",
    "\n",
    "\n",
    "# Example usage:\n",
    "m = Marsupial()\n",
    "m.put_in_pouch('doll')\n",
    "m.put_in_pouch('firetruck')\n",
    "m.put_in_pouch('kitten')\n",
    "print(m.pouch_contents())  # Output: ['doll', 'firetruck', 'kitten']\n",
    "\n",
    "k = Kangaroo(0, 0)\n",
    "k.put_in_pouch('doll')\n",
    "k.put_in_pouch('firetruck')\n",
    "k.put_in_pouch('kitten')\n",
    "print(k.pouch_contents())  # Output: ['doll', 'firetruck', 'kitten']\n",
    "k.jump(2, 3)\n",
    "print(k)  # Output: I am a Kangaroo located at coordinates (2, 3)\n"
   ]
  },
  {
   "cell_type": "markdown",
   "id": "ea6f8afd",
   "metadata": {},
   "source": [
    "### Question 4"
   ]
  },
  {
   "cell_type": "code",
   "execution_count": 14,
   "id": "1b56cd81",
   "metadata": {},
   "outputs": [
    {
     "name": "stdout",
     "output_type": "stream",
     "text": [
      "5\n",
      "16\n",
      "8\n",
      "4\n",
      "2\n",
      "1\n"
     ]
    }
   ],
   "source": [
    "def collatz(x):\n",
    "    print(x)\n",
    "\n",
    "    if x == 1:\n",
    "        return\n",
    "\n",
    "    if x % 2 == 0:\n",
    "        collatz(x // 2)\n",
    "    else:\n",
    "        collatz(3 * x + 1)\n",
    "        \n",
    "collatz(6)\n",
    "\n"
   ]
  },
  {
   "cell_type": "code",
   "execution_count": null,
   "id": "73fbf041",
   "metadata": {},
   "outputs": [],
   "source": []
  },
  {
   "cell_type": "code",
   "execution_count": null,
   "id": "b506b281",
   "metadata": {},
   "outputs": [],
   "source": []
  },
  {
   "cell_type": "markdown",
   "id": "64fc72ae",
   "metadata": {},
   "source": [
    "### Question 5"
   ]
  },
  {
   "cell_type": "code",
   "execution_count": 14,
   "id": "b43ec762",
   "metadata": {},
   "outputs": [
    {
     "name": "stdout",
     "output_type": "stream",
     "text": [
      "01111001"
     ]
    }
   ],
   "source": [
    "def binary(n):\n",
    "    if n > 1:\n",
    "        binary(n // 2)\n",
    "    print(n % 2, end='')\n",
    "\n",
    "\n",
    "binary(0)  # Output: 0\n",
    "binary(1)  # Output: 1\n",
    "binary(3)  # Output: 11\n",
    "binary(9)  # Output: 1001\n"
   ]
  },
  {
   "cell_type": "markdown",
   "id": "dc3065c2",
   "metadata": {},
   "source": [
    "### Question 6"
   ]
  },
  {
   "cell_type": "code",
   "execution_count": 27,
   "id": "3726b2ae",
   "metadata": {},
   "outputs": [
    {
     "name": "stdout",
     "output_type": "stream",
     "text": [
      "\n",
      "\n",
      "\n",
      "\n",
      "\n",
      "\n",
      "  \n",
      "\n",
      "  \n",
      "\n",
      "  \n",
      "Change_me\n",
      "\n",
      "  \n",
      "\n",
      "  \n",
      "\n",
      "  \n",
      "\n",
      "\n",
      "\n",
      "\n",
      "\n",
      "\n",
      "  \n",
      "\t\n",
      "W3C Mission\n",
      "\n",
      "\t\n",
      " Principles\n",
      "\n",
      " \n",
      "\n",
      "\n",
      "\n",
      "\n",
      "\n"
     ]
    }
   ],
   "source": [
    "from html.parser import HTMLParser\n",
    "\n",
    "\n",
    "class HeadingParser(HTMLParser):\n",
    "    def __init__(self):\n",
    "        super().__init__()\n",
    "        self.indentation = 0\n",
    "\n",
    "    def handle_starttag(self, tag, attrs):\n",
    "        # Check if the tag is a heading tag (e.g., 'h1', 'h2', 'h3', etc.)\n",
    "        if tag.startswith('h'):\n",
    "            try:\n",
    "                # Extract the heading level from the tag and adjust the indentation accordingly\n",
    "                self.indentation = int(tag[1]) - 1\n",
    "            except ValueError:\n",
    "                # If the heading level is not a valid integer, set the indentation to 0 as a fallback\n",
    "                self.indentation = 0\n",
    "\n",
    "    def handle_endtag(self, tag):\n",
    "        # Reset the indentation to 0 when encountering the end tag of a heading\n",
    "        if tag.startswith('h'):\n",
    "            self.indentation = 0\n",
    "\n",
    "    def handle_data(self, data):\n",
    "        # Print the heading data with the appropriate indentation\n",
    "        if self.indentation > 0:\n",
    "            print(' ' * self.indentation, end='')\n",
    "        print(data)\n",
    "\n",
    "\n",
    "# Test the implementation using w3c.html\n",
    "with open('C:\\\\Users\\\\tonyd\\\\Downloads\\\\w3c.html') as infile:\n",
    "    content = infile.read()\n",
    "\n",
    "# Create an instance of HeadingParser\n",
    "hp = HeadingParser()\n",
    "# Parse the HTML content and print the headings\n",
    "hp.feed(content)\n",
    "\n"
   ]
  },
  {
   "cell_type": "markdown",
   "id": "2f6661e5",
   "metadata": {},
   "source": [
    "### Question 7"
   ]
  },
  {
   "cell_type": "code",
   "execution_count": 53,
   "id": "a4079707",
   "metadata": {},
   "outputs": [
    {
     "name": "stdout",
     "output_type": "stream",
     "text": [
      "http://reed.cs.depaul.edu/lperkovic/csc242/test1.html\n",
      "Error: HTTP Error 404: \n"
     ]
    }
   ],
   "source": [
    "from urllib.request import urlopen\n",
    "from urllib.parse import urljoin\n",
    "from bs4 import BeautifulSoup\n",
    "\n",
    "\n",
    "def webdir(url, depth, indent):\n",
    "    # Print the URL with appropriate indentation\n",
    "    print(' ' * indent + url)\n",
    "\n",
    "    if depth == 0:\n",
    "        return\n",
    "\n",
    "    try:\n",
    "        # Open the URL and read the webpage content\n",
    "        response = urlopen(url)\n",
    "        html = response.read()\n",
    "        soup = BeautifulSoup(html, 'html.parser')\n",
    "\n",
    "        # Find all the anchor tags in the webpage\n",
    "        anchors = soup.find_all('a')\n",
    "\n",
    "        for anchor in anchors:\n",
    "            # Get the href attribute of each anchor tag\n",
    "            href = anchor.get('href')\n",
    "\n",
    "            if href and href.startswith('http'):\n",
    "                # Recursively call webdir() with the new URL, reduced depth, and increased indentation\n",
    "                webdir(href, depth - 1, indent + 4)\n",
    "            else:\n",
    "                # If the href is a relative URL, join it with the base URL\n",
    "                abs_url = urljoin(url, href)\n",
    "\n",
    "                # Recursively call webdir() with the new URL, reduced depth, and increased indentation\n",
    "                webdir(abs_url, depth - 1, indent + 4)\n",
    "    except Exception as e:\n",
    "        # Handle any exceptions that occur during the process\n",
    "        print('Error:', e)\n",
    "\n",
    "\n",
    "# Test the implementation\n",
    "webdir('http://reed.cs.depaul.edu/lperkovic/csc242/test1.html' , 2, 0)\n"
   ]
  },
  {
   "cell_type": "code",
   "execution_count": null,
   "id": "0a8d2144",
   "metadata": {},
   "outputs": [],
   "source": []
  },
  {
   "cell_type": "markdown",
   "id": "4ba7a0d9",
   "metadata": {},
   "source": [
    "### Question 8"
   ]
  },
  {
   "cell_type": "code",
   "execution_count": 40,
   "id": "a1f68335",
   "metadata": {},
   "outputs": [],
   "source": [
    "import sqlite3\n",
    "\n",
    "# Connect to the database or create it if it doesn't exist\n",
    "conn = sqlite3.connect('weather_database.db')\n",
    "\n",
    "# Create a cursor object to interact with the database\n",
    "cursor = conn.cursor()\n",
    "\n",
    "# Create the table\n",
    "cursor.execute('''\n",
    "    CREATE TABLE weather_updated_data (\n",
    "        City TEXT,\n",
    "        Country TEXT,\n",
    "        Season TEXT,\n",
    "        Temperature REAL,\n",
    "        Rainfall REAL\n",
    "    )\n",
    "''')\n",
    "\n",
    "# Insert the data into the table\n",
    "data = [\n",
    "    ('Mumbai', 'India', 'Winter', 24.8, 5.9),\n",
    "    ('Mumbai', 'India', 'Spring', 28.4, 16.2),\n",
    "    ('Mumbai', 'India', 'Summer', 27.9, 1549.4),\n",
    "    ('Mumbai', 'India', 'Fall', 27.6, 346),\n",
    "    ('London', 'United Kingdom', 'Winter', 4.2, 207.7),\n",
    "    ('London', 'United Kingdom', 'Spring', 8.3, 169.6),\n",
    "    ('London', 'United Kingdom', 'Summer', 15.7, 157),\n",
    "    ('London', 'United Kingdom', 'Fall', 10.4, 218.5),\n",
    "    ('Cairo', 'Egypt', 'Winter', 13.6, 16.5),\n",
    "    ('Cairo', 'Egypt', 'Spring', 20.7, 6.5),\n",
    "    ('Cairo', 'Egypt', 'Summer', 27.7, 0.1),\n",
    "    ('Cairo', 'Egypt', 'Fall', 22.2, 4.5)\n",
    "]\n",
    "\n",
    "cursor.executemany('INSERT INTO weather_updated_data VALUES (?, ?, ?, ?, ?)', data)\n",
    "\n",
    "# Commit the changes and close the connection\n",
    "conn.commit()\n",
    "\n"
   ]
  },
  {
   "cell_type": "markdown",
   "id": "d0ef294e",
   "metadata": {},
   "source": [
    "###### a)"
   ]
  },
  {
   "cell_type": "code",
   "execution_count": 41,
   "id": "acf3cd60",
   "metadata": {},
   "outputs": [
    {
     "name": "stdout",
     "output_type": "stream",
     "text": [
      "All the temperature data:\n",
      "24.8\n",
      "28.4\n",
      "27.9\n",
      "27.6\n",
      "4.2\n",
      "8.3\n",
      "15.7\n",
      "10.4\n",
      "13.6\n",
      "20.7\n",
      "27.7\n",
      "22.2\n"
     ]
    }
   ],
   "source": [
    "import sqlite3\n",
    "\n",
    "# Connect to the database\n",
    "conn = sqlite3.connect('weather_database.db')\n",
    "cursor = conn.cursor()\n",
    "\n",
    "# Query: All the temperature data\n",
    "query = \"SELECT Temperature FROM weather_updated_data\"\n",
    "cursor.execute(query)\n",
    "temperature_data = cursor.fetchall()\n",
    "\n",
    "# Print all the temperature data\n",
    "print(\"All the temperature data:\")\n",
    "for temperature in temperature_data:\n",
    "    print(temperature[0])\n",
    "\n",
    "# Close the connection\n",
    "conn.close()"
   ]
  },
  {
   "cell_type": "markdown",
   "id": "5f9b2b26",
   "metadata": {},
   "source": [
    "###### b)"
   ]
  },
  {
   "cell_type": "code",
   "execution_count": 42,
   "id": "6df5a066",
   "metadata": {},
   "outputs": [
    {
     "name": "stdout",
     "output_type": "stream",
     "text": [
      "All the cities without repetition:\n",
      "Mumbai\n",
      "London\n",
      "Cairo\n"
     ]
    }
   ],
   "source": [
    "import sqlite3\n",
    "\n",
    "# Connect to the database\n",
    "conn = sqlite3.connect('weather_database.db')\n",
    "cursor = conn.cursor()\n",
    "\n",
    "# Query: All the cities without repetition\n",
    "query = \"SELECT DISTINCT City FROM weather_updated_data\"\n",
    "cursor.execute(query)\n",
    "cities = cursor.fetchall()\n",
    "\n",
    "# Print all the cities\n",
    "print(\"All the cities without repetition:\")\n",
    "for city in cities:\n",
    "    print(city[0])\n",
    "\n",
    "# Close the connection\n",
    "conn.close()\n"
   ]
  },
  {
   "cell_type": "code",
   "execution_count": null,
   "id": "96f59201",
   "metadata": {},
   "outputs": [],
   "source": []
  },
  {
   "cell_type": "markdown",
   "id": "492d40e6",
   "metadata": {},
   "source": [
    "###### c)"
   ]
  },
  {
   "cell_type": "code",
   "execution_count": 44,
   "id": "b9230b3f",
   "metadata": {},
   "outputs": [
    {
     "name": "stdout",
     "output_type": "stream",
     "text": [
      "All the records for India:\n",
      "('Mumbai', 'India', 'Winter', 24.8, 5.9)\n",
      "('Mumbai', 'India', 'Spring', 28.4, 16.2)\n",
      "('Mumbai', 'India', 'Summer', 27.9, 1549.4)\n",
      "('Mumbai', 'India', 'Fall', 27.6, 346.0)\n"
     ]
    }
   ],
   "source": [
    "import sqlite3\n",
    "\n",
    "# Connect to the database\n",
    "conn = sqlite3.connect('weather_database.db')\n",
    "cursor = conn.cursor()\n",
    "\n",
    "# Query: All the records for India\n",
    "query = \"SELECT * FROM weather_updated_data WHERE Country = 'India'\"\n",
    "cursor.execute(query)\n",
    "records = cursor.fetchall()\n",
    "\n",
    "# Print all the records for India\n",
    "print(\"All the records for India:\")\n",
    "for record in records:\n",
    "    print(record)\n",
    "\n",
    "# Close the connection\n",
    "conn.close()\n"
   ]
  },
  {
   "cell_type": "code",
   "execution_count": null,
   "id": "ab73d47d",
   "metadata": {},
   "outputs": [],
   "source": []
  },
  {
   "cell_type": "markdown",
   "id": "3a24e836",
   "metadata": {},
   "source": [
    "###### d)"
   ]
  },
  {
   "cell_type": "code",
   "execution_count": 45,
   "id": "6df570eb",
   "metadata": {},
   "outputs": [
    {
     "name": "stdout",
     "output_type": "stream",
     "text": [
      "All the Fall records:\n",
      "('Mumbai', 'India', 'Fall', 27.6, 346.0)\n",
      "('London', 'United Kingdom', 'Fall', 10.4, 218.5)\n",
      "('Cairo', 'Egypt', 'Fall', 22.2, 4.5)\n"
     ]
    }
   ],
   "source": [
    "import sqlite3\n",
    "\n",
    "# Connect to the database\n",
    "conn = sqlite3.connect('weather_database.db')\n",
    "cursor = conn.cursor()\n",
    "\n",
    "# Query: All the Fall records\n",
    "query = \"SELECT * FROM weather_updated_data WHERE Season = 'Fall'\"\n",
    "cursor.execute(query)\n",
    "records = cursor.fetchall()\n",
    "\n",
    "# Print all the Fall records\n",
    "print(\"All the Fall records:\")\n",
    "for record in records:\n",
    "    print(record)\n",
    "\n",
    "# Close the connection\n",
    "conn.close()\n"
   ]
  },
  {
   "cell_type": "code",
   "execution_count": null,
   "id": "5773507f",
   "metadata": {},
   "outputs": [],
   "source": []
  },
  {
   "cell_type": "markdown",
   "id": "38e4314b",
   "metadata": {},
   "source": [
    "###### e)"
   ]
  },
  {
   "cell_type": "code",
   "execution_count": 46,
   "id": "05049e39",
   "metadata": {},
   "outputs": [
    {
     "name": "stdout",
     "output_type": "stream",
     "text": [
      "Cities, countries, and seasons with average rainfall between 200 and 400 millimeters:\n",
      "('London', 'United Kingdom', 'Fall')\n",
      "('London', 'United Kingdom', 'Winter')\n",
      "('Mumbai', 'India', 'Fall')\n"
     ]
    }
   ],
   "source": [
    "import sqlite3\n",
    "\n",
    "# Connect to the database\n",
    "conn = sqlite3.connect('weather_database.db')\n",
    "cursor = conn.cursor()\n",
    "\n",
    "# Query: The city, country, and season for which the average rainfall is between 200 and 400 millimeters\n",
    "query = \"SELECT City, Country, Season FROM weather_updated_data GROUP BY City, Country, Season HAVING AVG(Rainfall) BETWEEN 200 AND 400\"\n",
    "cursor.execute(query)\n",
    "records = cursor.fetchall()\n",
    "\n",
    "# Print the results\n",
    "print(\"Cities, countries, and seasons with average rainfall between 200 and 400 millimeters:\")\n",
    "for record in records:\n",
    "    print(record)\n",
    "\n",
    "# Close the connection\n",
    "conn.close()\n"
   ]
  },
  {
   "cell_type": "code",
   "execution_count": null,
   "id": "00e49329",
   "metadata": {},
   "outputs": [],
   "source": []
  },
  {
   "cell_type": "markdown",
   "id": "a4ddfc01",
   "metadata": {},
   "source": [
    "###### f)"
   ]
  },
  {
   "cell_type": "code",
   "execution_count": 47,
   "id": "cd0d57b3",
   "metadata": {},
   "outputs": [
    {
     "name": "stdout",
     "output_type": "stream",
     "text": [
      "Cities and countries with average Fall temperature above 20 degrees (in increasing temperature order):\n",
      "('Cairo', 'Egypt')\n",
      "('Mumbai', 'India')\n"
     ]
    }
   ],
   "source": [
    "import sqlite3\n",
    "\n",
    "# Connect to the database\n",
    "conn = sqlite3.connect('weather_database.db')\n",
    "cursor = conn.cursor()\n",
    "\n",
    "# Query: The city and country for which the average Fall temperature is above 20 degrees, in increasing temperature order\n",
    "query = \"SELECT City, Country FROM weather_updated_data WHERE Season = 'Fall' GROUP BY City, Country HAVING AVG(Temperature) > 20 ORDER BY AVG(Temperature) ASC\"\n",
    "cursor.execute(query)\n",
    "records = cursor.fetchall()\n",
    "\n",
    "# Print the results\n",
    "print(\"Cities and countries with average Fall temperature above 20 degrees (in increasing temperature order):\")\n",
    "for record in records:\n",
    "    print(record)\n",
    "\n",
    "# Close the connection\n",
    "conn.close()\n"
   ]
  },
  {
   "cell_type": "code",
   "execution_count": null,
   "id": "8438fff7",
   "metadata": {},
   "outputs": [],
   "source": []
  },
  {
   "cell_type": "markdown",
   "id": "38f7fc81",
   "metadata": {},
   "source": [
    "###### g)"
   ]
  },
  {
   "cell_type": "code",
   "execution_count": 48,
   "id": "2bda81d2",
   "metadata": {},
   "outputs": [
    {
     "name": "stdout",
     "output_type": "stream",
     "text": [
      "Total annual rainfall for Cairo: 27.6 millimeters\n"
     ]
    }
   ],
   "source": [
    "import sqlite3\n",
    "\n",
    "# Connect to the database\n",
    "conn = sqlite3.connect('weather_database.db')\n",
    "cursor = conn.cursor()\n",
    "\n",
    "# Query: The total annual rainfall for Cairo\n",
    "query = \"SELECT SUM(Rainfall) FROM weather_updated_data WHERE City = 'Cairo'\"\n",
    "cursor.execute(query)\n",
    "total_rainfall = cursor.fetchone()[0]\n",
    "\n",
    "# Print the result\n",
    "print(\"Total annual rainfall for Cairo:\", total_rainfall, \"millimeters\")\n",
    "\n",
    "# Close the connection\n",
    "conn.close()\n"
   ]
  },
  {
   "cell_type": "code",
   "execution_count": null,
   "id": "947adb89",
   "metadata": {},
   "outputs": [],
   "source": []
  },
  {
   "cell_type": "markdown",
   "id": "44ae23b2",
   "metadata": {},
   "source": [
    "###### h)"
   ]
  },
  {
   "cell_type": "code",
   "execution_count": 49,
   "id": "0828bf98",
   "metadata": {},
   "outputs": [
    {
     "name": "stdout",
     "output_type": "stream",
     "text": [
      "Total rainfall for each season:\n",
      "Fall: 569.0 millimeters\n",
      "Spring: 192.29999999999998 millimeters\n",
      "Summer: 1706.5 millimeters\n",
      "Winter: 230.1 millimeters\n"
     ]
    }
   ],
   "source": [
    "import sqlite3\n",
    "\n",
    "# Connect to the database\n",
    "conn = sqlite3.connect('weather_database.db')\n",
    "cursor = conn.cursor()\n",
    "\n",
    "# Query: The total rainfall for each season\n",
    "query = \"SELECT Season, SUM(Rainfall) FROM weather_updated_data GROUP BY Season\"\n",
    "cursor.execute(query)\n",
    "results = cursor.fetchall()\n",
    "\n",
    "# Print the results\n",
    "print(\"Total rainfall for each season:\")\n",
    "for row in results:\n",
    "    season = row[0]\n",
    "    total_rainfall = row[1]\n",
    "    print(f\"{season}: {total_rainfall} millimeters\")\n",
    "\n",
    "# Close the connection\n",
    "conn.close()\n"
   ]
  },
  {
   "cell_type": "markdown",
   "id": "107b4f53",
   "metadata": {},
   "source": [
    "### Question 9"
   ]
  },
  {
   "cell_type": "code",
   "execution_count": 43,
   "id": "191fffcd",
   "metadata": {},
   "outputs": [
    {
     "name": "stdout",
     "output_type": "stream",
     "text": [
      "['THE', 'QUICK', 'BROWN', 'FOX', 'JUMPS', 'OVER', 'THE', 'LAZY', 'DOG']\n",
      "['the', 'quick', 'brown', 'fox', 'jumps', 'over', 'the', 'lazy', 'dog']\n",
      "[['THE', 'the', 3], ['QUICK', 'quick', 5], ['BROWN', 'brown', 5], ['FOX', 'fox', 3], ['JUMPS', 'jumps', 5], ['OVER', 'over', 4], ['THE', 'the', 3], ['LAZY', 'lazy', 4], ['DOG', 'dog', 3]]\n",
      "[3, 5, 5, 3, 5, 4, 3, 4, 3]\n",
      "['quick', 'brown', 'jumps', 'over', 'lazy']\n"
     ]
    }
   ],
   "source": [
    "words = [\"The\", \"quick\", \"brown\", \"fox\", \"jumps\", \"over\", \"the\", \"lazy\", \"dog\"]\n",
    "word_uppercase = []\n",
    "\n",
    "for word in words:\n",
    "   word_size = word.upper()\n",
    "   word_uppercase.append(word_size)\n",
    "\n",
    "print(word_uppercase)\n",
    "\n",
    "\n",
    "\n",
    "words = [\"The\", \"quick\", \"brown\", \"fox\", \"jumps\", \"over\", \"the\", \"lazy\", \"dog\"]\n",
    "word_lowercase = []\n",
    "\n",
    "for word in words:\n",
    "   word_size = word.lower()\n",
    "   word_lowercase.append(word_size)\n",
    "\n",
    "print(word_lowercase)\n",
    "\n",
    "\n",
    "\n",
    "words = [\"The\", \"quick\", \"brown\", \"fox\", \"jumps\", \"over\", \"the\", \"lazy\", \"dog\"]\n",
    "word_contain = []\n",
    "\n",
    "for word in words:\n",
    "    word_count = len(word)\n",
    "    word_contain.append([word.upper(), word.lower(), word_count])\n",
    "    \n",
    "\n",
    "\n",
    "print(word_contain)\n",
    "\n",
    "\n",
    "words = [\"The\", \"quick\", \"brown\", \"fox\", \"jumps\", \"over\", \"the\", \"lazy\", \"dog\"]\n",
    "word_length = []\n",
    "\n",
    "for word in words:\n",
    "    count_word = len(word)\n",
    "    word_length.append(count_word)\n",
    "\n",
    "print(word_length)\n",
    "\n",
    "\n",
    "\n",
    "\n",
    "words = [\"The\", \"quick\", \"brown\", \"fox\", \"jumps\", \"over\", \"the\", \"lazy\", \"dog\"]\n",
    "word_value = []\n",
    "\n",
    "for word in words:\n",
    "    \n",
    "    if len(word) >= 4:\n",
    "        word_value.append(word)\n",
    "\n",
    "print(word_value)\n",
    "\n"
   ]
  },
  {
   "cell_type": "code",
   "execution_count": null,
   "id": "38bb5780",
   "metadata": {},
   "outputs": [],
   "source": []
  }
 ],
 "metadata": {
  "kernelspec": {
   "display_name": "Python 3 (ipykernel)",
   "language": "python",
   "name": "python3"
  },
  "language_info": {
   "codemirror_mode": {
    "name": "ipython",
    "version": 3
   },
   "file_extension": ".py",
   "mimetype": "text/x-python",
   "name": "python",
   "nbconvert_exporter": "python",
   "pygments_lexer": "ipython3",
   "version": "3.10.9"
  }
 },
 "nbformat": 4,
 "nbformat_minor": 5
}
